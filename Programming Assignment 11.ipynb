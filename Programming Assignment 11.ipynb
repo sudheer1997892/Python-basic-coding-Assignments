{
 "cells": [
  {
   "cell_type": "code",
   "execution_count": 4,
   "id": "4389ba05",
   "metadata": {},
   "outputs": [],
   "source": [
    "li=\"For any queries contact us at skype : support@ineuron.ai (Timings : 8 AM IST to 2 AM IST). For mail & interview preparation support drop us mail at query@ineuron.ai\""
   ]
  },
  {
   "cell_type": "code",
   "execution_count": 5,
   "id": "3469ee27",
   "metadata": {},
   "outputs": [],
   "source": [
    "newli=li.split(\" \")"
   ]
  },
  {
   "cell_type": "code",
   "execution_count": 7,
   "id": "3f05baa2",
   "metadata": {},
   "outputs": [
    {
     "data": {
      "text/plain": [
       "['For',\n",
       " 'any',\n",
       " 'queries',\n",
       " 'contact',\n",
       " 'us',\n",
       " 'at',\n",
       " 'skype',\n",
       " ':',\n",
       " 'support@ineuron.ai',\n",
       " '(Timings',\n",
       " ':',\n",
       " '8',\n",
       " 'AM',\n",
       " 'IST',\n",
       " 'to',\n",
       " '2',\n",
       " 'AM',\n",
       " 'IST).',\n",
       " 'For',\n",
       " 'mail',\n",
       " '&',\n",
       " 'interview',\n",
       " 'preparation',\n",
       " 'support',\n",
       " 'drop',\n",
       " 'us',\n",
       " 'mail',\n",
       " 'at',\n",
       " 'query@ineuron.ai']"
      ]
     },
     "execution_count": 7,
     "metadata": {},
     "output_type": "execute_result"
    }
   ],
   "source": [
    "newli"
   ]
  },
  {
   "cell_type": "code",
   "execution_count": 10,
   "id": "f3b9c07d",
   "metadata": {},
   "outputs": [
    {
     "name": "stdout",
     "output_type": "stream",
     "text": [
      "worgs having length greater than k\n",
      "queries,contact,skype,support@ineuron.ai,(Timings,IST).,interview,preparation,support,query@ineuron.ai,"
     ]
    }
   ],
   "source": [
    "k=4\n",
    "print(\"worgs having length greater than k\")\n",
    "for i in newli:\n",
    "    if len(i)>k:\n",
    "        print(i,end=\",\")"
   ]
  },
  {
   "cell_type": "code",
   "execution_count": 14,
   "id": "7871d3f1",
   "metadata": {},
   "outputs": [
    {
     "name": "stdout",
     "output_type": "stream",
     "text": [
      "before removing    query@ineuron.ai\n",
      "after removing    query@inuron.ai\n"
     ]
    }
   ],
   "source": [
    "d=\"query@ineuron.ai\"\n",
    "i=8\n",
    "print(\"before removing   \",format(d))\n",
    "a=d[0:i]\n",
    "b=d[i+1:]\n",
    "e=a+b\n",
    "print(\"after removing   \",format(e))"
   ]
  },
  {
   "cell_type": "code",
   "execution_count": 21,
   "id": "2e13b602",
   "metadata": {},
   "outputs": [
    {
     "name": "stdout",
     "output_type": "stream",
     "text": [
      "after splitting: ['For', 'any', 'queries', 'contact', 'us', 'at', 'skype', ':', 'support@ineuron.ai', '(Timings', ':', '8', 'AM', 'IST', 'to', '2', 'AM', 'IST).', 'For', 'mail', '&', 'interview', 'preparation', 'support', 'drop', 'us', 'mail', 'at', 'query@ineuron.ai']\n",
      "again after joining: For any queries contact us at skype : support@ineuron.ai (Timings : 8 AM IST to 2 AM IST). For mail & interview preparation support drop us mail at query@ineuron.ai\n"
     ]
    }
   ],
   "source": [
    "d=\"For any queries contact us at skype : support@ineuron.ai (Timings : 8 AM IST to 2 AM IST). For mail & interview preparation support drop us mail at query@ineuron.ai\"\n",
    "li=d.split(\" \")\n",
    "print(\"after splitting:\",format(li))\n",
    "e=\" \".join(li)\n",
    "print(\"again after joining:\",format(e))"
   ]
  },
  {
   "cell_type": "code",
   "execution_count": 24,
   "id": "b8759687",
   "metadata": {},
   "outputs": [],
   "source": [
    "def check(string): \n",
    "    p = set(string)\n",
    "    s = {'0', '1'}\n",
    "    if s == p or p == {'0'} or p == {'1'}:\n",
    "        print(\"Yes\")\n",
    "    else :\n",
    "        print(\"No\")"
   ]
  },
  {
   "cell_type": "code",
   "execution_count": 25,
   "id": "dd1c1130",
   "metadata": {},
   "outputs": [
    {
     "name": "stdout",
     "output_type": "stream",
     "text": [
      "Yes\n"
     ]
    }
   ],
   "source": [
    "check(\"1000010001000100\")"
   ]
  },
  {
   "cell_type": "code",
   "execution_count": 26,
   "id": "87cd14ad",
   "metadata": {},
   "outputs": [
    {
     "name": "stdout",
     "output_type": "stream",
     "text": [
      "No\n"
     ]
    }
   ],
   "source": [
    "check(\"555884100000\")"
   ]
  },
  {
   "cell_type": "code",
   "execution_count": 28,
   "id": "2c37109c",
   "metadata": {},
   "outputs": [
    {
     "name": "stdout",
     "output_type": "stream",
     "text": [
      "['is', 'good', 'for', 'artificial', 'intelligence', 'by']\n"
     ]
    }
   ],
   "source": [
    "def UncommonWords(A, B):\n",
    "    count = {}\n",
    "    for word in A.split():\n",
    "        count[word] = count.get(word, 0) + 1\n",
    "    for word in B.split():\n",
    "        count[word] = count.get(word, 0) + 1\n",
    "    return [word for word in count if count[word] == 1]\n",
    "  \n",
    "# Driver Code\n",
    "A = \"ineuron is good startup for artificial intelligence by sudhanshu \"\n",
    "B = \"ineuron startup  sudhanshu \"\n",
    "print(UncommonWords(A, B))"
   ]
  },
  {
   "cell_type": "code",
   "execution_count": 32,
   "id": "9351613d",
   "metadata": {},
   "outputs": [
    {
     "name": "stdout",
     "output_type": "stream",
     "text": [
      "duplicate elements s u d h r a l i "
     ]
    }
   ],
   "source": [
    "A=\"sudheertetali\"\n",
    "dic={}\n",
    "for i in A:\n",
    "    dic[i]=dic.get(i,0)+1\n",
    "print(\"duplicate elements\",end=\" \")\n",
    "for i in dic:\n",
    "    if dic[i]==1:\n",
    "        print(i,end=\" \")"
   ]
  },
  {
   "cell_type": "code",
   "execution_count": 34,
   "id": "e129d3b4",
   "metadata": {},
   "outputs": [],
   "source": [
    "def check_special_character(A):\n",
    "    A=A.lower()\n",
    "    for i in A:\n",
    "        if ord(i)>=97 and ord(i)<=122:\n",
    "            continue\n",
    "        else:\n",
    "            return True\n",
    "    return False\n",
    "\n"
   ]
  },
  {
   "cell_type": "code",
   "execution_count": 37,
   "id": "7807ac0b",
   "metadata": {},
   "outputs": [
    {
     "data": {
      "text/plain": [
       "True"
      ]
     },
     "execution_count": 37,
     "metadata": {},
     "output_type": "execute_result"
    }
   ],
   "source": [
    "check_special_character(\"sudheer@TTTtetali\")"
   ]
  },
  {
   "cell_type": "code",
   "execution_count": null,
   "id": "d80b7fe1",
   "metadata": {},
   "outputs": [],
   "source": []
  }
 ],
 "metadata": {
  "kernelspec": {
   "display_name": "Python 3",
   "language": "python",
   "name": "python3"
  },
  "language_info": {
   "codemirror_mode": {
    "name": "ipython",
    "version": 3
   },
   "file_extension": ".py",
   "mimetype": "text/x-python",
   "name": "python",
   "nbconvert_exporter": "python",
   "pygments_lexer": "ipython3",
   "version": "3.8.8"
  }
 },
 "nbformat": 4,
 "nbformat_minor": 5
}
