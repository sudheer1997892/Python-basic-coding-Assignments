{
 "cells": [
  {
   "cell_type": "code",
   "execution_count": 4,
   "id": "c1d536b6",
   "metadata": {},
   "outputs": [
    {
     "name": "stdout",
     "output_type": "stream",
     "text": [
      "enter elements of list with space1 2 3 asdfg 22 qwert\n"
     ]
    },
    {
     "data": {
      "text/plain": [
       "[1, 2, 3, 22]"
      ]
     },
     "execution_count": 4,
     "metadata": {},
     "output_type": "execute_result"
    }
   ],
   "source": [
    "def filter_list(li):\n",
    "    newli=[]\n",
    "    for i in li:\n",
    "        try:\n",
    "            newli.append(int(i))\n",
    "        except:\n",
    "            continue\n",
    "    return newli\n",
    "n=[i for i in input(\"enter elements of list with space\").strip().split(\" \")]\n",
    "filter_list(n)"
   ]
  },
  {
   "cell_type": "code",
   "execution_count": 15,
   "id": "3e021240",
   "metadata": {},
   "outputs": [
    {
     "name": "stdout",
     "output_type": "stream",
     "text": [
      "SuDhEeR\n",
      "rEeHdUs\n"
     ]
    }
   ],
   "source": [
    "n=input()\n",
    "s=\"\"\n",
    "for i in range(len(n)-1,-1,-1):\n",
    "    if n[i].islower():\n",
    "        s=s+n[i].upper()\n",
    "    else:\n",
    "        s=s+n[i].lower()\n",
    "print(s)\n",
    "\n",
    "        \n",
    "        \n",
    "        "
   ]
  },
  {
   "cell_type": "code",
   "execution_count": null,
   "id": "7e323aec",
   "metadata": {},
   "outputs": [],
   "source": [
    "li=\"\"\n",
    "li.swapcase()"
   ]
  },
  {
   "cell_type": "code",
   "execution_count": null,
   "id": "5c9597cf",
   "metadata": {},
   "outputs": [],
   "source": []
  },
  {
   "cell_type": "code",
   "execution_count": 16,
   "id": "de2a9757",
   "metadata": {},
   "outputs": [
    {
     "data": {
      "text/plain": [
       "120"
      ]
     },
     "execution_count": 16,
     "metadata": {},
     "output_type": "execute_result"
    }
   ],
   "source": [
    "def factorial(n):\n",
    "    if n==0 or n==1:\n",
    "        return 1\n",
    "    output=n*factorial(n-1)\n",
    "    return output\n",
    "factorial(5)"
   ]
  },
  {
   "cell_type": "code",
   "execution_count": 17,
   "id": "2aa87e0c",
   "metadata": {},
   "outputs": [
    {
     "data": {
      "text/plain": [
       "[3, 2, 4, 4, 1, 1]"
      ]
     },
     "execution_count": 17,
     "metadata": {},
     "output_type": "execute_result"
    }
   ],
   "source": [
    "def move_to_end(li,ele):\n",
    "    index=[]\n",
    "    for i in range(len(li)):\n",
    "        if li[i]==ele:\n",
    "            index.append(i)\n",
    "    for i in index:\n",
    "        li.pop(i)\n",
    "        li.append(ele)\n",
    "    return li\n",
    "move_to_end([1,3,2,4,4,1],1)\n",
    "        "
   ]
  },
  {
   "cell_type": "code",
   "execution_count": null,
   "id": "dd2e78e1",
   "metadata": {},
   "outputs": [],
   "source": []
  }
 ],
 "metadata": {
  "kernelspec": {
   "display_name": "Python 3",
   "language": "python",
   "name": "python3"
  },
  "language_info": {
   "codemirror_mode": {
    "name": "ipython",
    "version": 3
   },
   "file_extension": ".py",
   "mimetype": "text/x-python",
   "name": "python",
   "nbconvert_exporter": "python",
   "pygments_lexer": "ipython3",
   "version": "3.8.8"
  }
 },
 "nbformat": 4,
 "nbformat_minor": 5
}
