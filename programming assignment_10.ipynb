{
 "cells": [
  {
   "cell_type": "code",
   "execution_count": 1,
   "id": "fa6c3919",
   "metadata": {},
   "outputs": [],
   "source": [
    "li=[1,2,3,4,8,7,4,6,10,2,7,21,44,555,4]"
   ]
  },
  {
   "cell_type": "code",
   "execution_count": 2,
   "id": "bab91143",
   "metadata": {},
   "outputs": [
    {
     "name": "stdout",
     "output_type": "stream",
     "text": [
      "678\n"
     ]
    }
   ],
   "source": [
    "print(sum(li))"
   ]
  },
  {
   "cell_type": "code",
   "execution_count": 3,
   "id": "47707347",
   "metadata": {},
   "outputs": [
    {
     "name": "stdout",
     "output_type": "stream",
     "text": [
      "9263252275200\n"
     ]
    }
   ],
   "source": [
    "product=1\n",
    "for i in li:\n",
    "    product=product*i\n",
    "print(product)"
   ]
  },
  {
   "cell_type": "code",
   "execution_count": 5,
   "id": "aae0b626",
   "metadata": {},
   "outputs": [
    {
     "name": "stdout",
     "output_type": "stream",
     "text": [
      "1\n"
     ]
    }
   ],
   "source": [
    "print(min(li))"
   ]
  },
  {
   "cell_type": "code",
   "execution_count": 6,
   "id": "9096e998",
   "metadata": {},
   "outputs": [
    {
     "name": "stdout",
     "output_type": "stream",
     "text": [
      "555\n"
     ]
    }
   ],
   "source": [
    "print(max(li))"
   ]
  },
  {
   "cell_type": "code",
   "execution_count": 7,
   "id": "0989877e",
   "metadata": {},
   "outputs": [],
   "source": [
    "sortedli=sorted(li)"
   ]
  },
  {
   "cell_type": "code",
   "execution_count": 8,
   "id": "a20ee454",
   "metadata": {},
   "outputs": [
    {
     "name": "stdout",
     "output_type": "stream",
     "text": [
      "2\n"
     ]
    }
   ],
   "source": [
    "print(sortedli[1])"
   ]
  },
  {
   "cell_type": "code",
   "execution_count": 13,
   "id": "16cd940c",
   "metadata": {},
   "outputs": [
    {
     "name": "stdout",
     "output_type": "stream",
     "text": [
      "5\n",
      "[8, 10, 21, 44, 555]\n"
     ]
    }
   ],
   "source": [
    "N=input()\n",
    "i=len(sortedli)-int(N)\n",
    "print(sortedli[i:])"
   ]
  },
  {
   "cell_type": "code",
   "execution_count": 16,
   "id": "9ae6bb95",
   "metadata": {},
   "outputs": [
    {
     "name": "stdout",
     "output_type": "stream",
     "text": [
      "even numbers [2, 4, 8, 4, 6, 10, 2, 44, 4]\n",
      "odd numbers [1, 3, 7, 7, 21, 555]\n"
     ]
    }
   ],
   "source": [
    "#printevennumbers\n",
    "even=[]\n",
    "odd=[]\n",
    "for i in li:\n",
    "    if i%2==0:\n",
    "        even.append(i)\n",
    "    else:\n",
    "        odd.append(i)\n",
    "print(\"even numbers\",format(even))\n",
    "print(\"odd numbers\",format(odd))"
   ]
  },
  {
   "cell_type": "code",
   "execution_count": 19,
   "id": "f62535d4",
   "metadata": {},
   "outputs": [
    {
     "name": "stdout",
     "output_type": "stream",
     "text": [
      "before removing [[1, 2], [], [5, 5, 5, 8], [8, 8, 8, 8, 8]]\n",
      "after removing [[1, 2], [5, 5, 5, 8], [8, 8, 8, 8, 8]]\n"
     ]
    }
   ],
   "source": [
    "newli=[[1,2],[],[5,5,5,8],[8,8,8,8,8]]\n",
    "print(\"before removing\",format(newli))\n",
    "index=[]\n",
    "for i in range(len(newli)):\n",
    "    if type(newli[i])==list:\n",
    "        if len(newli[i])==0:\n",
    "            index.append(i)\n",
    "for i in index:\n",
    "    newli.pop(i)\n",
    "print(\"after removing\",format(newli))\n",
    "\n",
    "            "
   ]
  },
  {
   "cell_type": "code",
   "execution_count": 20,
   "id": "0c9b0dc1",
   "metadata": {},
   "outputs": [
    {
     "name": "stdout",
     "output_type": "stream",
     "text": [
      "Original List: [4, 8, 2, 10, 15, 18]\n",
      "After Cloning: [4, 8, 2, 10, 15, 18]\n"
     ]
    }
   ],
   "source": [
    "def Cloning(li1):\n",
    "    li_copy = li1[:]\n",
    "    return li_copy\n",
    "li1 = [4, 8, 2, 10, 15, 18]\n",
    "li2 = Cloning(li1)\n",
    "print(\"Original List:\", li1)\n",
    "print(\"After Cloning:\", li2)"
   ]
  },
  {
   "cell_type": "code",
   "execution_count": 22,
   "id": "2cfb6ed1",
   "metadata": {},
   "outputs": [
    {
     "name": "stdout",
     "output_type": "stream",
     "text": [
      "8 has occurred 5 times\n",
      "6 has occurred 1 times\n",
      "8 has occurred 5 times\n",
      "10 has occurred 2 times\n",
      "8 has occurred 5 times\n",
      "20 has occurred 1 times\n",
      "10 has occurred 2 times\n",
      "8 has occurred 5 times\n",
      "8 has occurred 5 times\n"
     ]
    }
   ],
   "source": [
    "def countX(lst, x):\n",
    "    return lst.count(x)\n",
    "lst = [8, 6, 8, 10, 8, 20, 10, 8, 8]\n",
    "for x in lst:\n",
    "    print('{} has occurred {} times'.format(x, countX(lst, x)))"
   ]
  },
  {
   "cell_type": "code",
   "execution_count": null,
   "id": "8655db53",
   "metadata": {},
   "outputs": [],
   "source": []
  }
 ],
 "metadata": {
  "kernelspec": {
   "display_name": "Python 3",
   "language": "python",
   "name": "python3"
  },
  "language_info": {
   "codemirror_mode": {
    "name": "ipython",
    "version": 3
   },
   "file_extension": ".py",
   "mimetype": "text/x-python",
   "name": "python",
   "nbconvert_exporter": "python",
   "pygments_lexer": "ipython3",
   "version": "3.8.8"
  }
 },
 "nbformat": 4,
 "nbformat_minor": 5
}
