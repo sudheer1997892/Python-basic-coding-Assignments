{
 "cells": [
  {
   "cell_type": "code",
   "execution_count": 22,
   "id": "9af7ac24",
   "metadata": {},
   "outputs": [
    {
     "name": "stdout",
     "output_type": "stream",
     "text": [
      "5\n",
      "120\n"
     ]
    }
   ],
   "source": [
    "def factorial(n):\n",
    "    if n==1:\n",
    "        return 1\n",
    "    return n*factorial(n-1)\n",
    "value=factorial(int(input()))\n",
    "print(value)"
   ]
  },
  {
   "cell_type": "code",
   "execution_count": 23,
   "id": "b1bec608",
   "metadata": {},
   "outputs": [
    {
     "name": "stdout",
     "output_type": "stream",
     "text": [
      "which multiplication table you want5\n",
      "upto what number you want multiplication20\n",
      "5*1=5\n",
      "5*2=10\n",
      "5*3=15\n",
      "5*4=20\n",
      "5*5=25\n",
      "5*6=30\n",
      "5*7=35\n",
      "5*8=40\n",
      "5*9=45\n",
      "5*10=50\n",
      "5*11=55\n",
      "5*12=60\n",
      "5*13=65\n",
      "5*14=70\n",
      "5*15=75\n",
      "5*16=80\n",
      "5*17=85\n",
      "5*18=90\n",
      "5*19=95\n",
      "5*20=100\n"
     ]
    }
   ],
   "source": [
    "a=int(input(\"which multiplication table you want\"))\n",
    "b=int(input(\"upto what number you want multiplication\"))\n",
    "for i in range(1,b+1):\n",
    "    print(\"{}*{}={}\".format(a,i,a*i))"
   ]
  },
  {
   "cell_type": "code",
   "execution_count": 24,
   "id": "38da1b79",
   "metadata": {},
   "outputs": [
    {
     "name": "stdout",
     "output_type": "stream",
     "text": [
      "how many numbers you want in fibanacci series10\n",
      "0 1 1 2 3 5 8 13 21 34 "
     ]
    }
   ],
   "source": [
    "n=int(input(\"how many numbers you want in fibanacci series\"))\n",
    "a=0\n",
    "b=1\n",
    "i=3\n",
    "print(a,b,end=\" \")\n",
    "while i<=n:\n",
    "    a,b=b,a+b\n",
    "    print(b,end=\" \")\n",
    "    i=i+1"
   ]
  },
  {
   "cell_type": "code",
   "execution_count": 25,
   "id": "f4cd3ba9",
   "metadata": {},
   "outputs": [
    {
     "name": "stdout",
     "output_type": "stream",
     "text": [
      "407\n",
      "True\n"
     ]
    }
   ],
   "source": [
    "def checkarmstrong(num):\n",
    "    strnum=str(num)\n",
    "    le=len(strnum)\n",
    "    sum=0\n",
    "    for i in strnum:\n",
    "        sum=sum+(int(i)**le)\n",
    "    if sum==num:\n",
    "        return True\n",
    "    else:\n",
    "        return False\n",
    "num=int(input())\n",
    "print(checkarmstrong(num))\n",
    "        "
   ]
  },
  {
   "cell_type": "code",
   "execution_count": 26,
   "id": "a00c783c",
   "metadata": {},
   "outputs": [
    {
     "name": "stdout",
     "output_type": "stream",
     "text": [
      "enter upto what number you want armstrong number1000\n",
      "[0, 1, 2, 3, 4, 5, 6, 7, 8, 9, 153, 370, 371, 407]\n"
     ]
    }
   ],
   "source": [
    "interval=int(input(\"enter upto what number you want armstrong number\"))\n",
    "li=[]\n",
    "for i in range(0,interval+1):\n",
    "    li.append(i)\n",
    "armstronglist=list(filter(checkarmstrong,li))\n",
    "print(armstronglist)"
   ]
  },
  {
   "cell_type": "code",
   "execution_count": 27,
   "id": "95bd8bf1",
   "metadata": {},
   "outputs": [
    {
     "name": "stdout",
     "output_type": "stream",
     "text": [
      "Enter upto what number you want sum of natural number10\n",
      "55.0\n"
     ]
    }
   ],
   "source": [
    "number=int(input(\"Enter upto what number you want sum of natural number\"))\n",
    "c=(number*(number+1))/2\n",
    "print(c)"
   ]
  },
  {
   "cell_type": "code",
   "execution_count": null,
   "id": "df8ed551",
   "metadata": {},
   "outputs": [],
   "source": []
  }
 ],
 "metadata": {
  "kernelspec": {
   "display_name": "Python 3",
   "language": "python",
   "name": "python3"
  },
  "language_info": {
   "codemirror_mode": {
    "name": "ipython",
    "version": 3
   },
   "file_extension": ".py",
   "mimetype": "text/x-python",
   "name": "python",
   "nbconvert_exporter": "python",
   "pygments_lexer": "ipython3",
   "version": "3.8.8"
  }
 },
 "nbformat": 4,
 "nbformat_minor": 5
}
