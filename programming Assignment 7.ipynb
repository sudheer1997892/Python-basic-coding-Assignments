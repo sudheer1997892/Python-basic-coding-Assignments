{
 "cells": [
  {
   "cell_type": "code",
   "execution_count": 12,
   "id": "bee0d7af",
   "metadata": {},
   "outputs": [
    {
     "name": "stdout",
     "output_type": "stream",
     "text": [
      "ENTER elements of array:space seperated1 2 3 4 5 6 7 8 9 100\n",
      "sum 145\n",
      "maximum 100\n"
     ]
    }
   ],
   "source": [
    "li=[int(i) for i in input(\"ENTER elements of array:space seperated\").strip().split(\" \")]\n",
    "print(\"sum {}\".format(sum(li)))\n",
    "print(\"maximum {}\".format(max(li)))"
   ]
  },
  {
   "cell_type": "code",
   "execution_count": 13,
   "id": "759188b3",
   "metadata": {},
   "outputs": [
    {
     "name": "stdout",
     "output_type": "stream",
     "text": [
      "ENTER elements of array:space seperated1 2 3 4 5 6 7 8 9 1 \n",
      "enter by how many number array has to be rotate3\n",
      "original one[1, 2, 3, 4, 5, 6, 7, 8, 9, 1]\n",
      "rotatedone[4, 5, 6, 7, 8, 9, 1, 1, 2, 3]\n"
     ]
    }
   ],
   "source": [
    "li=[int(i) for i in input(\"ENTER elements of array:space seperated\").strip().split(\" \")]\n",
    "k=int(input(\"enter by how many number array has to be rotate\"))\n",
    "print(\"original one{}\".format(li))\n",
    "print(\"rotatedone{}\".format(li[k:]+li[0:k]))"
   ]
  },
  {
   "cell_type": "code",
   "execution_count": 15,
   "id": "6f5bf7fc",
   "metadata": {},
   "outputs": [
    {
     "name": "stdout",
     "output_type": "stream",
     "text": [
      "ENTER elements of array:space seperated1 2 3 4 5 6 7 8 9 10\n",
      "after spliting and adding first part to last [6, 7, 8, 9, 10, 1, 2, 3, 4, 5]\n"
     ]
    }
   ],
   "source": [
    "li=[int(i) for i in input(\"ENTER elements of array:space seperated\").strip().split(\" \")]\n",
    "print(\"after spliting and adding first part to last {}\".format(li[len(li)//2:]+li[0:len(li)//2]))"
   ]
  },
  {
   "cell_type": "code",
   "execution_count": 16,
   "id": "27fd83a1",
   "metadata": {},
   "outputs": [
    {
     "name": "stdout",
     "output_type": "stream",
     "text": [
      "ENTER elements of array:space seperated1 2 3 4 5 6 7 8 9 10\n",
      "True\n"
     ]
    }
   ],
   "source": [
    "def isMonotonic(A):\n",
    "   return(all(A[i] <= A[i + 1] for i in range(len(A) - 1)) or\n",
    "      all(A[i] >= A[i + 1] for i in range(len(A) - 1)))\n",
    "li=[int(i) for i in input(\"ENTER elements of array:space seperated\").strip().split(\" \")]\n",
    "A = [li]\n",
    "print(isMonotonic(A))"
   ]
  },
  {
   "cell_type": "code",
   "execution_count": null,
   "id": "670776ff",
   "metadata": {},
   "outputs": [],
   "source": []
  }
 ],
 "metadata": {
  "kernelspec": {
   "display_name": "Python 3",
   "language": "python",
   "name": "python3"
  },
  "language_info": {
   "codemirror_mode": {
    "name": "ipython",
    "version": 3
   },
   "file_extension": ".py",
   "mimetype": "text/x-python",
   "name": "python",
   "nbconvert_exporter": "python",
   "pygments_lexer": "ipython3",
   "version": "3.8.8"
  }
 },
 "nbformat": 4,
 "nbformat_minor": 5
}
