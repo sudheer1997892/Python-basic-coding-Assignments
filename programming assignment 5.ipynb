{
 "cells": [
  {
   "cell_type": "code",
   "execution_count": 1,
   "id": "b1fbb816",
   "metadata": {},
   "outputs": [
    {
     "name": "stdout",
     "output_type": "stream",
     "text": [
      "enter first number15\n",
      "enter second number20\n",
      "LCM of 15 and 20 is 60.0\n",
      "HCF of 15 and 20 is 5\n"
     ]
    }
   ],
   "source": [
    "def gcd(a,b):\n",
    "    if a == 0:\n",
    "        return b\n",
    "    return gcd(b % a, a)\n",
    "def lcm(a,b):\n",
    "    return (a / gcd(a,b))* b\n",
    "a =int(input(\"enter first number\"))\n",
    "b =int(input(\"enter second number\"))\n",
    "print('LCM of', a, 'and', b, 'is', lcm(a, b))\n",
    "print('HCF of', a, 'and', b, 'is', gcd(a, b))\n"
   ]
  },
  {
   "cell_type": "code",
   "execution_count": 2,
   "id": "6b064795",
   "metadata": {},
   "outputs": [
    {
     "name": "stdout",
     "output_type": "stream",
     "text": [
      "Enter the number needs to be converted to binary55555\n",
      "1101100100000011\n"
     ]
    }
   ],
   "source": [
    "def binary(n):\n",
    "    if n==0:\n",
    "        return 0\n",
    "    f=binary(n//2)\n",
    "    return f*10+(n%2)\n",
    "d=binary(int(input(\"Enter the number needs to be converted to binary\")))\n",
    "print(d)"
   ]
  },
  {
   "cell_type": "code",
   "execution_count": 3,
   "id": "56ad8dd6",
   "metadata": {},
   "outputs": [
    {
     "name": "stdout",
     "output_type": "stream",
     "text": [
      "Enter the number needs to be converted to octa670\n",
      "1236\n"
     ]
    }
   ],
   "source": [
    "def octa(n):\n",
    "    if n==0:\n",
    "        return 0\n",
    "    f=octa(n//8)\n",
    "    return f*10+(n%8)\n",
    "e=octa(int(input(\"Enter the number needs to be converted to octa\")))\n",
    "print(e)"
   ]
  },
  {
   "cell_type": "code",
   "execution_count": 8,
   "id": "f183f474",
   "metadata": {},
   "outputs": [
    {
     "name": "stdout",
     "output_type": "stream",
     "text": [
      "Enter the number needs to be converted to hexadecimal8520\n",
      "2148\n"
     ]
    }
   ],
   "source": [
    "def hexadecimal(n):\n",
    "    if n==0:\n",
    "        return 0\n",
    "    f=hexadecimal(n//16)\n",
    "    return f*10+(n%16)\n",
    "f=hexadecimal(int(input(\"Enter the number needs to be converted to hexadecimal\")))\n",
    "print(f)"
   ]
  },
  {
   "cell_type": "code",
   "execution_count": 12,
   "id": "fb7ba2a8",
   "metadata": {},
   "outputs": [
    {
     "name": "stdout",
     "output_type": "stream",
     "text": [
      "Enter variablek\n",
      "107\n"
     ]
    }
   ],
   "source": [
    "c=input(\"Enter variable\")\n",
    "print(ord(c))"
   ]
  },
  {
   "cell_type": "code",
   "execution_count": 13,
   "id": "72ca6660",
   "metadata": {},
   "outputs": [
    {
     "name": "stdout",
     "output_type": "stream",
     "text": [
      "Enter first number12\n",
      "Enter second number8\n",
      "addition=20\n",
      "subtraction=4\n",
      "multiplication=96\n",
      "ratio of two numbers=1.5\n"
     ]
    }
   ],
   "source": [
    "first=int(input(\"Enter first number\"))\n",
    "second=int(input(\"Enter second number\"))\n",
    "print(\"addition={}\".format(first+second))\n",
    "print(\"subtraction={}\".format(first-second))\n",
    "print(\"multiplication={}\".format(first*second))\n",
    "print(\"ratio of two numbers={}\".format(first/second))"
   ]
  },
  {
   "cell_type": "code",
   "execution_count": null,
   "id": "f9c23f73",
   "metadata": {},
   "outputs": [],
   "source": []
  }
 ],
 "metadata": {
  "kernelspec": {
   "display_name": "Python 3",
   "language": "python",
   "name": "python3"
  },
  "language_info": {
   "codemirror_mode": {
    "name": "ipython",
    "version": 3
   },
   "file_extension": ".py",
   "mimetype": "text/x-python",
   "name": "python",
   "nbconvert_exporter": "python",
   "pygments_lexer": "ipython3",
   "version": "3.8.8"
  }
 },
 "nbformat": 4,
 "nbformat_minor": 5
}
