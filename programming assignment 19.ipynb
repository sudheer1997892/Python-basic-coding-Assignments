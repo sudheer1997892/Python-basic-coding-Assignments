{
 "cells": [
  {
   "cell_type": "code",
   "execution_count": 2,
   "id": "70baa1a6",
   "metadata": {},
   "outputs": [
    {
     "data": {
      "text/plain": [
       "'HHeelllloo  WWoorrlldd!!'"
      ]
     },
     "execution_count": 2,
     "metadata": {},
     "output_type": "execute_result"
    }
   ],
   "source": [
    "def double_char(string):\n",
    "    st=\"\"\n",
    "    for i in string:\n",
    "        st=st+i+i\n",
    "    return st\n",
    "double_char(\"Hello World!\")"
   ]
  },
  {
   "cell_type": "code",
   "execution_count": 5,
   "id": "69e7b18a",
   "metadata": {},
   "outputs": [
    {
     "data": {
      "text/plain": [
       "False"
      ]
     },
     "execution_count": 5,
     "metadata": {},
     "output_type": "execute_result"
    }
   ],
   "source": [
    "def reverse(ele):\n",
    "    if ele:\n",
    "        return False\n",
    "    elif ele:\n",
    "        return True\n",
    "    else:\n",
    "        return \"Boolean Expected\"\n",
    "reverse(True)"
   ]
  },
  {
   "cell_type": "code",
   "execution_count": 6,
   "id": "c6251260",
   "metadata": {},
   "outputs": [
    {
     "data": {
      "text/plain": [
       "'Boolean Expected'"
      ]
     },
     "execution_count": 6,
     "metadata": {},
     "output_type": "execute_result"
    }
   ],
   "source": [
    "reverse(0)"
   ]
  },
  {
   "cell_type": "code",
   "execution_count": 8,
   "id": "5c0dbae7",
   "metadata": {},
   "outputs": [
    {
     "name": "stdout",
     "output_type": "stream",
     "text": [
      "1048.576 meters\n"
     ]
    }
   ],
   "source": [
    "def num_layers(n):\n",
    "    return (0.0005*(2**n))\n",
    "c=num_layers(21)\n",
    "print(c,\"meters\")"
   ]
  },
  {
   "cell_type": "code",
   "execution_count": 12,
   "id": "bae63753",
   "metadata": {},
   "outputs": [
    {
     "data": {
      "text/plain": [
       "[1, 3, 5]"
      ]
     },
     "execution_count": 12,
     "metadata": {},
     "output_type": "execute_result"
    }
   ],
   "source": [
    "def index_of_caps(string):\n",
    "    li=[]\n",
    "    for i in range(len(string)):\n",
    "        if string[i].isupper():\n",
    "            li.append(i)\n",
    "    return li\n",
    "index_of_caps(\"eDaBiT\")"
   ]
  },
  {
   "cell_type": "code",
   "execution_count": 14,
   "id": "6d55e9e4",
   "metadata": {},
   "outputs": [
    {
     "name": "stdout",
     "output_type": "stream",
     "text": [
      "enter n value50\n",
      "[0, 2, 4, 6, 8, 10, 12, 14, 16, 18, 20, 22, 24, 26, 28, 30, 32, 34, 36, 38, 40, 42, 44, 46, 48, 50]\n"
     ]
    }
   ],
   "source": [
    "n=int(input(\"enter n value\"))\n",
    "li=[i for i in range(n+1) if i%2==0]\n",
    "print(li)"
   ]
  },
  {
   "cell_type": "code",
   "execution_count": null,
   "id": "11e58d41",
   "metadata": {},
   "outputs": [],
   "source": []
  }
 ],
 "metadata": {
  "kernelspec": {
   "display_name": "Python 3",
   "language": "python",
   "name": "python3"
  },
  "language_info": {
   "codemirror_mode": {
    "name": "ipython",
    "version": 3
   },
   "file_extension": ".py",
   "mimetype": "text/x-python",
   "name": "python",
   "nbconvert_exporter": "python",
   "pygments_lexer": "ipython3",
   "version": "3.8.8"
  }
 },
 "nbformat": 4,
 "nbformat_minor": 5
}
