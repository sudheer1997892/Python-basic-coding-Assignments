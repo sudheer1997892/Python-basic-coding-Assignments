{
 "cells": [
  {
   "cell_type": "code",
   "execution_count": 3,
   "id": "ec655012",
   "metadata": {},
   "outputs": [
    {
     "data": {
      "text/plain": [
       "'in... in... incredible'"
      ]
     },
     "execution_count": 3,
     "metadata": {},
     "output_type": "execute_result"
    }
   ],
   "source": [
    "def shutter(str):\n",
    "    return (str[0:2]+\"... \"+str[0:2]+\"... \"+str)\n",
    "shutter(\"incredible\")"
   ]
  },
  {
   "cell_type": "code",
   "execution_count": 5,
   "id": "74cf7fb1",
   "metadata": {},
   "outputs": [
    {
     "data": {
      "text/plain": [
       "57.29577951308232"
      ]
     },
     "execution_count": 5,
     "metadata": {},
     "output_type": "execute_result"
    }
   ],
   "source": [
    "import numpy as np\n",
    "def radians_to_degrees(n):\n",
    "    return (n*(180/np.pi))\n",
    "radians_to_degrees(1)"
   ]
  },
  {
   "cell_type": "code",
   "execution_count": 7,
   "id": "71ee1c35",
   "metadata": {},
   "outputs": [
    {
     "data": {
      "text/plain": [
       "True"
      ]
     },
     "execution_count": 7,
     "metadata": {},
     "output_type": "execute_result"
    }
   ],
   "source": [
    "def isCurzonnumber(n):\n",
    "    num=(2**n)+1\n",
    "    den=(2*n)+1\n",
    "    if num%den ==0:\n",
    "        return True\n",
    "    else:\n",
    "        return False\n",
    "isCurzonnumber(5)"
   ]
  },
  {
   "cell_type": "code",
   "execution_count": 9,
   "id": "c99fb4e3",
   "metadata": {},
   "outputs": [
    {
     "data": {
      "text/plain": [
       "23.382685902179844"
      ]
     },
     "execution_count": 9,
     "metadata": {},
     "output_type": "execute_result"
    }
   ],
   "source": [
    "def area(n):\n",
    "    val=((3**1.5)*(n**2))/2\n",
    "    return val\n",
    "area(3)"
   ]
  },
  {
   "cell_type": "code",
   "execution_count": 12,
   "id": "44c9b093",
   "metadata": {},
   "outputs": [
    {
     "data": {
      "text/plain": [
       "'1010'"
      ]
     },
     "execution_count": 12,
     "metadata": {},
     "output_type": "execute_result"
    }
   ],
   "source": [
    "def base10tobase2(n):\n",
    "    c=\"\"\n",
    "    while n>1:\n",
    "        temp=n%2\n",
    "        c=str(temp)+c\n",
    "        n=n//2\n",
    "    if n==1:\n",
    "        c=str(n)+c\n",
    "    return c\n",
    "base10tobase2(10)"
   ]
  },
  {
   "cell_type": "code",
   "execution_count": null,
   "id": "727b7577",
   "metadata": {},
   "outputs": [],
   "source": []
  }
 ],
 "metadata": {
  "kernelspec": {
   "display_name": "Python 3",
   "language": "python",
   "name": "python3"
  },
  "language_info": {
   "codemirror_mode": {
    "name": "ipython",
    "version": 3
   },
   "file_extension": ".py",
   "mimetype": "text/x-python",
   "name": "python",
   "nbconvert_exporter": "python",
   "pygments_lexer": "ipython3",
   "version": "3.8.8"
  }
 },
 "nbformat": 4,
 "nbformat_minor": 5
}
