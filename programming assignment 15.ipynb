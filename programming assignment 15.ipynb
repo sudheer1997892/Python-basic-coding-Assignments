{
 "cells": [
  {
   "cell_type": "code",
   "execution_count": 3,
   "id": "2fa035ec",
   "metadata": {},
   "outputs": [
    {
     "name": "stdout",
     "output_type": "stream",
     "text": [
      "enter n value100\n",
      "0 35 70 "
     ]
    }
   ],
   "source": [
    "class division:\n",
    "    def __init__(self,n):\n",
    "        for i in range(0,n):\n",
    "            if i%7==0 and i%5==0:\n",
    "                print(i,end=\" \")\n",
    "n=int(input(\"enter n value\"))\n",
    "s=division(n)"
   ]
  },
  {
   "cell_type": "code",
   "execution_count": 4,
   "id": "c103468a",
   "metadata": {},
   "outputs": [
    {
     "name": "stdout",
     "output_type": "stream",
     "text": [
      "enter n value100\n",
      "0 2 4 6 8 10 12 14 16 18 20 22 24 26 28 30 32 34 36 38 40 42 44 46 48 50 52 54 56 58 60 62 64 66 68 70 72 74 76 78 80 82 84 86 88 90 92 94 96 98 "
     ]
    }
   ],
   "source": [
    "class even:\n",
    "    def __init__(self,n):\n",
    "        for i in range(0,n):\n",
    "            if i%2==0:\n",
    "                print(i,end=\" \")\n",
    "n=int(input(\"enter n value\"))\n",
    "s=even(n)"
   ]
  },
  {
   "cell_type": "code",
   "execution_count": 4,
   "id": "4c09733c",
   "metadata": {},
   "outputs": [
    {
     "name": "stdout",
     "output_type": "stream",
     "text": [
      "enter n value12\n",
      "[0, 1, 1, 2, 3, 5, 8, 13, 21, 34, 55, 89]\n"
     ]
    }
   ],
   "source": [
    "n=int(input(\"enter n value\"))\n",
    "series=[]\n",
    "series.append(0)\n",
    "series.append(1)\n",
    "[series.append(series[k-1]+series[k-2]) for k in range(2,n)]\n",
    "print(series)"
   ]
  },
  {
   "cell_type": "code",
   "execution_count": 3,
   "id": "fb52180b",
   "metadata": {},
   "outputs": [
    {
     "name": "stdout",
     "output_type": "stream",
     "text": [
      "[0, 1, 1, 2, 3, 5, 8, 13, 21, 34, 55, 89]\n"
     ]
    }
   ],
   "source": [
    "print(series)"
   ]
  },
  {
   "cell_type": "code",
   "execution_count": 5,
   "id": "5c63f486",
   "metadata": {},
   "outputs": [
    {
     "name": "stdout",
     "output_type": "stream",
     "text": [
      "Enter inputjohn@google.com\n",
      "username john\n"
     ]
    }
   ],
   "source": [
    "string=input(\"Enter input\")\n",
    "li=string.split(\"@\")\n",
    "print(\"username\",li[0])"
   ]
  },
  {
   "cell_type": "code",
   "execution_count": 6,
   "id": "713d2423",
   "metadata": {},
   "outputs": [
    {
     "ename": "TypeError",
     "evalue": "square() takes no arguments",
     "output_type": "error",
     "traceback": [
      "\u001b[1;31m---------------------------------------------------------------------------\u001b[0m",
      "\u001b[1;31mTypeError\u001b[0m                                 Traceback (most recent call last)",
      "\u001b[1;32m<ipython-input-6-667174afd4ab>\u001b[0m in \u001b[0;36m<module>\u001b[1;34m\u001b[0m\n\u001b[0;32m      6\u001b[0m         \u001b[0mself\u001b[0m\u001b[1;33m.\u001b[0m\u001b[0mlength\u001b[0m\u001b[1;33m=\u001b[0m\u001b[0mlength\u001b[0m\u001b[1;33m\u001b[0m\u001b[1;33m\u001b[0m\u001b[0m\n\u001b[0;32m      7\u001b[0m         \u001b[0mshape\u001b[0m\u001b[1;33m.\u001b[0m\u001b[0m__init__\u001b[0m\u001b[1;33m(\u001b[0m\u001b[0mself\u001b[0m\u001b[1;33m)\u001b[0m\u001b[1;33m\u001b[0m\u001b[1;33m\u001b[0m\u001b[0m\n\u001b[1;32m----> 8\u001b[1;33m \u001b[0ms\u001b[0m\u001b[1;33m=\u001b[0m\u001b[0msquare\u001b[0m\u001b[1;33m(\u001b[0m\u001b[1;36m20\u001b[0m\u001b[1;33m)\u001b[0m\u001b[1;33m\u001b[0m\u001b[1;33m\u001b[0m\u001b[0m\n\u001b[0m",
      "\u001b[1;31mTypeError\u001b[0m: square() takes no arguments"
     ]
    }
   ],
   "source": [
    "class shape:\n",
    "    def area(self,length):\n",
    "        print(\"area\",length**2)\n",
    "class square(shape):\n",
    "    def __init(self,length):\n",
    "        self.length=length\n",
    "        shape.__init__(self)\n",
    "s=square(20)"
   ]
  },
  {
   "cell_type": "code",
   "execution_count": null,
   "id": "8ec82dd9",
   "metadata": {},
   "outputs": [],
   "source": []
  }
 ],
 "metadata": {
  "kernelspec": {
   "display_name": "Python 3",
   "language": "python",
   "name": "python3"
  },
  "language_info": {
   "codemirror_mode": {
    "name": "ipython",
    "version": 3
   },
   "file_extension": ".py",
   "mimetype": "text/x-python",
   "name": "python",
   "nbconvert_exporter": "python",
   "pygments_lexer": "ipython3",
   "version": "3.8.8"
  }
 },
 "nbformat": 4,
 "nbformat_minor": 5
}
