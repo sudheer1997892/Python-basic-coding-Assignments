{
 "cells": [
  {
   "cell_type": "code",
   "execution_count": 5,
   "id": "b5a9f1d4",
   "metadata": {},
   "outputs": [
    {
     "name": "stdout",
     "output_type": "stream",
     "text": [
      "0 True\n",
      "1 False\n",
      "2 False\n",
      "3 False\n",
      "4 False\n",
      "5 False\n",
      "6 False\n",
      "7 True\n",
      "8 False\n",
      "9 False\n",
      "10 False\n",
      "11 False\n",
      "12 False\n",
      "13 False\n",
      "14 True\n",
      "15 False\n",
      "16 False\n",
      "17 False\n",
      "18 False\n",
      "19 False\n",
      "20 False\n",
      "21 True\n",
      "22 False\n",
      "23 False\n",
      "24 False\n",
      "25 False\n",
      "26 False\n",
      "27 False\n",
      "28 True\n",
      "29 False\n",
      "30 False\n",
      "31 False\n",
      "32 False\n",
      "33 False\n",
      "34 False\n",
      "35 True\n",
      "36 False\n",
      "37 False\n",
      "38 False\n",
      "39 False\n",
      "40 False\n",
      "41 False\n",
      "42 True\n",
      "43 False\n",
      "44 False\n",
      "45 False\n",
      "46 False\n",
      "47 False\n",
      "48 False\n",
      "49 True\n"
     ]
    }
   ],
   "source": [
    "class check:\n",
    "    def __init__(self):\n",
    "        pass\n",
    "    def divChecker(self,n):\n",
    "        for i in range(n):\n",
    "            if i % 7 == 0:\n",
    "                value = True\n",
    "            else:\n",
    "                value = False\n",
    "            print(i, value)\n",
    "s=check()\n",
    "s.divChecker(50)"
   ]
  },
  {
   "cell_type": "code",
   "execution_count": 4,
   "id": "22613b87",
   "metadata": {},
   "outputs": [
    {
     "name": "stdout",
     "output_type": "stream",
     "text": [
      "enter stringNew to Python or choosing between Python 2 and Python 3? Read Python 2 or Python 3\n",
      "{'2': 2.0, '3': 1.0, '3?': 1.0, 'New': 1.0, 'Python': 5.0, 'Read': 1.0, 'and': 1.0, 'between': 1.0, 'choosing': 1.0, 'or': 2.0, 'to': 1.0}\n"
     ]
    }
   ],
   "source": [
    "x=input(\"enter string\")\n",
    "x=x.split(\" \")\n",
    "x=sorted(x)\n",
    "dic={}\n",
    "for i in x:\n",
    "    dic[i]=dic.get(i,0)+1.\n",
    "print(dic)"
   ]
  },
  {
   "cell_type": "code",
   "execution_count": 31,
   "id": "8533f4d2",
   "metadata": {},
   "outputs": [
    {
     "data": {
      "text/plain": [
       "'Female'"
      ]
     },
     "execution_count": 31,
     "metadata": {},
     "output_type": "execute_result"
    }
   ],
   "source": [
    "class person:\n",
    "    def __init__(self,name,age,gender):\n",
    "        self.name=name\n",
    "        self.age=age\n",
    "        self.gender=gender\n",
    "    def getgender(self):\n",
    "        return self.gender\n",
    "class Male(person):\n",
    "    def __init(self,name,age,gender):\n",
    "        person.__init__(self,name,age,gender)\n",
    "class Female(person):\n",
    "    def __init(self,name,age,gender):\n",
    "        person.__init__(self,name,age,gender)\n",
    "s=Female(\"Hema latha\",18,\"Female\")\n",
    "c=s.getgender()\n",
    "c"
   ]
  },
  {
   "cell_type": "code",
   "execution_count": 7,
   "id": "01881f46",
   "metadata": {},
   "outputs": [
    {
     "name": "stdout",
     "output_type": "stream",
     "text": [
      "['I play Hockey', 'I play Football', 'I love Hockey', 'I love Football', 'You play Hockey', 'You play Football', 'You love Hockey', 'You love Football']\n"
     ]
    }
   ],
   "source": [
    "def generate_sentences(subjects,verbs,objects):\n",
    "    list=[]\n",
    "    for i in subjects:\n",
    "        for j in verbs:\n",
    "            for k in objects:\n",
    "                list.append(i+\" \"+j+\" \"+k)\n",
    "    return list            \n",
    "subjects=[\"I\",\"You\"]\n",
    "verbs=[\"play\", \"love\"]\n",
    "objects=[\"Hockey\",\"Football\"]\n",
    "print(generate_sentences(subjects,verbs,objects))    "
   ]
  },
  {
   "cell_type": "code",
   "execution_count": 2,
   "id": "5b1827ee",
   "metadata": {},
   "outputs": [
    {
     "name": "stdout",
     "output_type": "stream",
     "text": [
      "b'x\\x9c\\xcbH\\xcd\\xc9\\xc9W(\\xcf/\\xcaIQ\\xcc \\x82\\r\\x00\\xbd[\\x11\\xf5'\n",
      "b'hello world!hello world!hello world!hello world!'\n"
     ]
    }
   ],
   "source": [
    "import zlib\n",
    "s = 'hello world!hello world!hello world!hello world!'\n",
    "s=s.encode()\n",
    "t = zlib.compress(s)\n",
    "print(t)\n",
    "print(zlib.decompress(t))"
   ]
  },
  {
   "cell_type": "code",
   "execution_count": 35,
   "id": "343ddaed",
   "metadata": {},
   "outputs": [],
   "source": [
    "def binarysearch(A,element,si,ei):\n",
    "    if si>ei:\n",
    "        return \"No element found\"\n",
    "    l=(si+ei)//2\n",
    "    if A[l]==element:\n",
    "        return l    \n",
    "    elif A[l]>element:\n",
    "        output=binarysearch(A,element,si,l-1)\n",
    "        return output\n",
    "    else:\n",
    "        output=binarysearch(A,element,l+1,ei)\n",
    "        return output\n",
    "c=binarysearch([0,1,2,3,4,5,6,7,8,9,10,11,15,16,78,99],16,0,14)"
   ]
  },
  {
   "cell_type": "code",
   "execution_count": 36,
   "id": "95584842",
   "metadata": {},
   "outputs": [
    {
     "data": {
      "text/plain": [
       "13"
      ]
     },
     "execution_count": 36,
     "metadata": {},
     "output_type": "execute_result"
    }
   ],
   "source": [
    "c"
   ]
  },
  {
   "cell_type": "code",
   "execution_count": null,
   "id": "ad749be5",
   "metadata": {},
   "outputs": [],
   "source": []
  }
 ],
 "metadata": {
  "kernelspec": {
   "display_name": "Python 3",
   "language": "python",
   "name": "python3"
  },
  "language_info": {
   "codemirror_mode": {
    "name": "ipython",
    "version": 3
   },
   "file_extension": ".py",
   "mimetype": "text/x-python",
   "name": "python",
   "nbconvert_exporter": "python",
   "pygments_lexer": "ipython3",
   "version": "3.8.8"
  }
 },
 "nbformat": 4,
 "nbformat_minor": 5
}
