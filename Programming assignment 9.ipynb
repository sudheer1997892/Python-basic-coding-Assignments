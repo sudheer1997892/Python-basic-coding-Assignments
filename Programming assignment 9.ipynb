{
 "cells": [
  {
   "cell_type": "code",
   "execution_count": 6,
   "id": "45927cf0",
   "metadata": {},
   "outputs": [],
   "source": [
    "def disarium_number(n):\n",
    "    g=str(n)\n",
    "    su=0\n",
    "    for i in range(len(g)):\n",
    "        su=su+(int(g[i])**(i+1))\n",
    "    if su==n:\n",
    "        return True\n",
    "    else:\n",
    "        return False\n",
    "    \n",
    "    \n",
    "    "
   ]
  },
  {
   "cell_type": "code",
   "execution_count": 7,
   "id": "0fb18672",
   "metadata": {},
   "outputs": [
    {
     "data": {
      "text/plain": [
       "True"
      ]
     },
     "execution_count": 7,
     "metadata": {},
     "output_type": "execute_result"
    }
   ],
   "source": [
    "disarium_number(175)"
   ]
  },
  {
   "cell_type": "code",
   "execution_count": 10,
   "id": "ec006dba",
   "metadata": {},
   "outputs": [
    {
     "name": "stdout",
     "output_type": "stream",
     "text": [
      "1 2 3 4 5 6 7 8 9 89 "
     ]
    }
   ],
   "source": [
    "for i in range(1,101):\n",
    "    if disarium_number(i):\n",
    "        print(i,end=\" \")\n",
    "    else:\n",
    "        continue"
   ]
  },
  {
   "cell_type": "code",
   "execution_count": 17,
   "id": "2e1a0d25",
   "metadata": {},
   "outputs": [
    {
     "name": "stdout",
     "output_type": "stream",
     "text": [
      "True\n"
     ]
    }
   ],
   "source": [
    "def sumofdigitssquares(n):\n",
    "    su=0\n",
    "    li=[]\n",
    "    n=str(n)\n",
    "    for i in n:\n",
    "        su=su+(int(i)**2)\n",
    "    return su\n",
    "def checkhappy(n):\n",
    "    li=[]\n",
    "    while True:\n",
    "        if n in li:\n",
    "            break\n",
    "        li.append(n)\n",
    "        c=sumofdigitssquares(n)\n",
    "        if c==1:\n",
    "            return True\n",
    "        else:\n",
    "            n=c\n",
    "    return False\n",
    "c=checkhappy(19)\n",
    "print(c)"
   ]
  },
  {
   "cell_type": "code",
   "execution_count": 18,
   "id": "7e887f92",
   "metadata": {},
   "outputs": [
    {
     "name": "stdout",
     "output_type": "stream",
     "text": [
      "1 7 10 13 19 23 28 31 32 44 49 68 70 79 82 86 91 94 97 100 "
     ]
    }
   ],
   "source": [
    "for i in range(1,101):\n",
    "    if checkhappy(i):\n",
    "        print(i,end=\" \")\n",
    "    else:\n",
    "        continue"
   ]
  },
  {
   "cell_type": "code",
   "execution_count": 21,
   "id": "7c433483",
   "metadata": {},
   "outputs": [],
   "source": [
    "def check_harshad(n):\n",
    "    su=0\n",
    "    c=str(n)\n",
    "    for i in c:\n",
    "        su=su+int(i)\n",
    "    if n%su==0:\n",
    "        return True\n",
    "    else:\n",
    "        return False"
   ]
  },
  {
   "cell_type": "code",
   "execution_count": 22,
   "id": "f9d94b5c",
   "metadata": {},
   "outputs": [
    {
     "data": {
      "text/plain": [
       "True"
      ]
     },
     "execution_count": 22,
     "metadata": {},
     "output_type": "execute_result"
    }
   ],
   "source": [
    "check_harshad(20)"
   ]
  },
  {
   "cell_type": "code",
   "execution_count": 23,
   "id": "2665f266",
   "metadata": {},
   "outputs": [
    {
     "name": "stdout",
     "output_type": "stream",
     "text": [
      "1 2 3 4 5 6 7 8 9 10 12 18 20 21 24 27 30 36 40 42 45 48 50 54 60 63 70 72 80 81 84 90 100 "
     ]
    }
   ],
   "source": [
    "for i in range(1,101):\n",
    "    if check_harshad(i):\n",
    "        print(i,end=\" \")\n",
    "    else:\n",
    "        continue"
   ]
  },
  {
   "cell_type": "code",
   "execution_count": null,
   "id": "f4b854ed",
   "metadata": {},
   "outputs": [],
   "source": []
  }
 ],
 "metadata": {
  "kernelspec": {
   "display_name": "Python 3",
   "language": "python",
   "name": "python3"
  },
  "language_info": {
   "codemirror_mode": {
    "name": "ipython",
    "version": 3
   },
   "file_extension": ".py",
   "mimetype": "text/x-python",
   "name": "python",
   "nbconvert_exporter": "python",
   "pygments_lexer": "ipython3",
   "version": "3.8.8"
  }
 },
 "nbformat": 4,
 "nbformat_minor": 5
}
