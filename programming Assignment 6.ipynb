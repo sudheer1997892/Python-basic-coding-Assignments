{
 "cells": [
  {
   "cell_type": "code",
   "execution_count": 18,
   "id": "b1b143c1",
   "metadata": {},
   "outputs": [],
   "source": [
    "def fibanacci(n):\n",
    "    if n==1:\n",
    "        return 0\n",
    "    if n==2:\n",
    "        return 1\n",
    "    output=fibanacci(n-1)+fibanacci(n-2)\n",
    "    return output"
   ]
  },
  {
   "cell_type": "code",
   "execution_count": 19,
   "id": "54304361",
   "metadata": {},
   "outputs": [
    {
     "name": "stdout",
     "output_type": "stream",
     "text": [
      "0 1 1 2 3 5 8 13 21 34 55 89 144 233 377 610 987 1597 2584 4181 "
     ]
    }
   ],
   "source": [
    "n=20\n",
    "i=1\n",
    "while i<=20:\n",
    "    print(fibanacci(i),end=\" \")\n",
    "    i=i+1"
   ]
  },
  {
   "cell_type": "code",
   "execution_count": 12,
   "id": "1c25c5fd",
   "metadata": {},
   "outputs": [
    {
     "name": "stdout",
     "output_type": "stream",
     "text": [
      "8\n",
      "40320\n"
     ]
    }
   ],
   "source": [
    "def factorial(n):\n",
    "    if n==1:\n",
    "        return 1\n",
    "    return n*factorial(n-1)\n",
    "value=factorial(int(input()))\n",
    "print(value)\n"
   ]
  },
  {
   "cell_type": "code",
   "execution_count": 1,
   "id": "912c7655",
   "metadata": {},
   "outputs": [
    {
     "name": "stdout",
     "output_type": "stream",
     "text": [
      "enter weight in kgs65\n",
      "enter height in feet5.77\n",
      "21.015116649079292\n"
     ]
    }
   ],
   "source": [
    "def bodymassindex(weight,height):\n",
    "    return weight/(height**2)\n",
    "weight=int(input(\"enter weight in kgs\"))\n",
    "height=float(input(\"enter height in feet\"))\n",
    "print(bodymassindex(weight,(0.3048*height)))"
   ]
  },
  {
   "cell_type": "code",
   "execution_count": 2,
   "id": "8da0126e",
   "metadata": {},
   "outputs": [
    {
     "name": "stdout",
     "output_type": "stream",
     "text": [
      "Enter number8\n",
      "2.0794415416798357\n"
     ]
    }
   ],
   "source": [
    "import numpy as np\n",
    "print(np.log(float(input(\"Enter number\"))))"
   ]
  },
  {
   "cell_type": "code",
   "execution_count": 6,
   "id": "454d80b1",
   "metadata": {},
   "outputs": [
    {
     "name": "stdout",
     "output_type": "stream",
     "text": [
      "Enter number of first natural numbers25\n",
      "105625\n"
     ]
    }
   ],
   "source": [
    "n=int(input(\"Enter number of first natural numbers\"))\n",
    "print(((n*n)*(n+1)*(n+1))//4)"
   ]
  },
  {
   "cell_type": "code",
   "execution_count": null,
   "id": "b26d4338",
   "metadata": {},
   "outputs": [],
   "source": []
  }
 ],
 "metadata": {
  "kernelspec": {
   "display_name": "Python 3",
   "language": "python",
   "name": "python3"
  },
  "language_info": {
   "codemirror_mode": {
    "name": "ipython",
    "version": 3
   },
   "file_extension": ".py",
   "mimetype": "text/x-python",
   "name": "python",
   "nbconvert_exporter": "python",
   "pygments_lexer": "ipython3",
   "version": "3.8.8"
  }
 },
 "nbformat": 4,
 "nbformat_minor": 5
}
