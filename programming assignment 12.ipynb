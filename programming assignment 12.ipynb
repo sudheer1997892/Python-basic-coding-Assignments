{
 "cells": [
  {
   "cell_type": "code",
   "execution_count": 3,
   "id": "3ba6e939",
   "metadata": {},
   "outputs": [],
   "source": [
    "test_dict = {'gfg' : [5, 6, 7, 8],\n",
    "             'is' : [10, 11, 7, 5],\n",
    "             'best' : [6, 12, 10, 8],\n",
    "             'for' : [1, 2, 5]}\n"
   ]
  },
  {
   "cell_type": "code",
   "execution_count": 5,
   "id": "48b82432",
   "metadata": {},
   "outputs": [
    {
     "name": "stdout",
     "output_type": "stream",
     "text": [
      "[1, 2, 5, 6, 7, 8, 10, 11, 12]\n"
     ]
    }
   ],
   "source": [
    "newlist={val for i in test_dict.values() for val in i}\n",
    "print(sorted(newlist))"
   ]
  },
  {
   "cell_type": "code",
   "execution_count": 6,
   "id": "695c5e4b",
   "metadata": {},
   "outputs": [
    {
     "name": "stdout",
     "output_type": "stream",
     "text": [
      "600\n"
     ]
    }
   ],
   "source": [
    "dic={'a': 100, 'b':200, 'c':300}\n",
    "su=0\n",
    "for i in dic.values():\n",
    "    su=su+i\n",
    "print(su)"
   ]
  },
  {
   "cell_type": "code",
   "execution_count": 7,
   "id": "1381467b",
   "metadata": {},
   "outputs": [
    {
     "name": "stdout",
     "output_type": "stream",
     "text": [
      "None\n",
      "{'d': 6, 'c': 4, 'a': 10, 'b': 8}\n"
     ]
    }
   ],
   "source": [
    "def Merge(dict1, dict2):\n",
    "    return(dict2.update(dict1))\n",
    "dict1 = {'a': 10, 'b': 8}\n",
    "dict2 = {'d': 6, 'c': 4}\n",
    "print(Merge(dict1, dict2))\n",
    "print(dict2)"
   ]
  },
  {
   "cell_type": "code",
   "execution_count": 11,
   "id": "6e5bab7e",
   "metadata": {},
   "outputs": [
    {
     "name": "stdout",
     "output_type": "stream",
     "text": [
      "Flattened dictionary :  {1: 'Jan', 2: 'Feb', 3: 'March'}\n"
     ]
    }
   ],
   "source": [
    "\n",
    "test_dict = {'month' : [1, 2, 3],\n",
    "             'name' : ['Jan', 'Feb', 'March']}  \n",
    "res = dict(zip(test_dict['month'], test_dict['name']))\n",
    "print(\"Flattened dictionary : \",res)"
   ]
  },
  {
   "cell_type": "code",
   "execution_count": 14,
   "id": "d7ae382d",
   "metadata": {},
   "outputs": [
    {
     "name": "stdout",
     "output_type": "stream",
     "text": [
      "a 1\n",
      "b 2\n",
      "c 3\n",
      "d 4\n"
     ]
    }
   ],
   "source": [
    "from collections import OrderedDict\n",
    "od = OrderedDict()\n",
    "od['a'] = 1\n",
    "od['b'] = 2\n",
    "od['c'] = 3\n",
    "od['d'] = 4\n",
    " \n",
    "for key, value in od.items():\n",
    "    print(key, value)"
   ]
  },
  {
   "cell_type": "code",
   "execution_count": 24,
   "id": "0a5d77e9",
   "metadata": {},
   "outputs": [
    {
     "name": "stdout",
     "output_type": "stream",
     "text": [
      "true\n"
     ]
    }
   ],
   "source": [
    "string = \"engineers rock\"\n",
    "pattern = \"er\"\n",
    "dic={}\n",
    "for i in range(len(string)):\n",
    "    dic[string[i]]=i+1\n",
    "for i in range(len(pattern)-1,0,-1):\n",
    "    if dic[pattern[i]]>dic[pattern[i-1]]:\n",
    "        continue\n",
    "    else:\n",
    "        print(\"False\")    \n",
    "print(\"true\")\n"
   ]
  },
  {
   "cell_type": "code",
   "execution_count": 23,
   "id": "8c968593",
   "metadata": {},
   "outputs": [
    {
     "name": "stdout",
     "output_type": "stream",
     "text": [
      "{'e': 7, 'n': 5, 'g': 3, 'i': 4, 'r': 11, 's': 9, ' ': 10, 'o': 12, 'c': 13, 'k': 14}\n"
     ]
    }
   ],
   "source": [
    "print(dic)"
   ]
  },
  {
   "cell_type": "code",
   "execution_count": 26,
   "id": "955e136d",
   "metadata": {},
   "outputs": [
    {
     "name": "stdout",
     "output_type": "stream",
     "text": [
      "OrderedDict([('e', None), ('n', None), ('g', None), ('i', None), ('r', None), ('s', None), (' ', None), ('o', None), ('c', None), ('k', None)])\n",
      "false\n"
     ]
    }
   ],
   "source": [
    "def checkOrder(input, pattern): \n",
    "    dict = OrderedDict.fromkeys(input)  \n",
    "    print(dict)\n",
    "    ptrlen = 0\n",
    "    for key,value in dict.items(): \n",
    "        if (key == pattern[ptrlen]): \n",
    "            ptrlen = ptrlen + 1 \n",
    "        if (ptrlen == (len(pattern))): \n",
    "            return 'true'\n",
    "    return 'false'\n",
    "input = 'engineers rock'\n",
    "pattern = 'gsr'\n",
    "print (checkOrder(input,pattern))"
   ]
  },
  {
   "cell_type": "code",
   "execution_count": 28,
   "id": "568cfbbc",
   "metadata": {},
   "outputs": [
    {
     "name": "stdout",
     "output_type": "stream",
     "text": [
      "1 2\n",
      "2 56\n",
      "3 323\n",
      "4 24\n",
      "5 12\n",
      "6 18\n"
     ]
    }
   ],
   "source": [
    "key_value={}\n",
    "key_value[2] = 56      \n",
    "key_value[1] = 2\n",
    "key_value[5] = 12\n",
    "key_value[4] = 24\n",
    "key_value[6] = 18     \n",
    "key_value[3] = 323\n",
    "for i in sorted(key_value.keys()):\n",
    "    print(i,key_value[i])"
   ]
  },
  {
   "cell_type": "code",
   "execution_count": 30,
   "id": "6dcf8568",
   "metadata": {},
   "outputs": [
    {
     "name": "stdout",
     "output_type": "stream",
     "text": [
      "[(2, 1), (12, 5), (18, 6), (24, 4), (56, 2), (323, 3)]\n"
     ]
    }
   ],
   "source": [
    "key_value={}\n",
    "key_value[2] = 56      \n",
    "key_value[1] = 2\n",
    "key_value[5] = 12\n",
    "key_value[4] = 24\n",
    "key_value[6] = 18     \n",
    "key_value[3] = 323\n",
    "print(sorted((i[1],i[0]) for i in key_value.items()))"
   ]
  },
  {
   "cell_type": "code",
   "execution_count": null,
   "id": "41677d05",
   "metadata": {},
   "outputs": [],
   "source": []
  }
 ],
 "metadata": {
  "kernelspec": {
   "display_name": "Python 3",
   "language": "python",
   "name": "python3"
  },
  "language_info": {
   "codemirror_mode": {
    "name": "ipython",
    "version": 3
   },
   "file_extension": ".py",
   "mimetype": "text/x-python",
   "name": "python",
   "nbconvert_exporter": "python",
   "pygments_lexer": "ipython3",
   "version": "3.8.8"
  }
 },
 "nbformat": 4,
 "nbformat_minor": 5
}
