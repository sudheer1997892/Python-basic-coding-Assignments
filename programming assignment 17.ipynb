{
 "cells": [
  {
   "cell_type": "code",
   "execution_count": 2,
   "id": "aa76dab3",
   "metadata": {},
   "outputs": [
    {
     "data": {
      "text/plain": [
       "30"
      ]
     },
     "execution_count": 2,
     "metadata": {},
     "output_type": "execute_result"
    }
   ],
   "source": [
    "def evenly_divisible(a,b,c):\n",
    "    li=[]\n",
    "    for i in range(a,b+1):\n",
    "        if i%c==0:\n",
    "            li.append(i)\n",
    "    return sum(li)\n",
    "evenly_divisible(1, 10, 2)\n"
   ]
  },
  {
   "cell_type": "code",
   "execution_count": 4,
   "id": "ec0d68be",
   "metadata": {},
   "outputs": [
    {
     "data": {
      "text/plain": [
       "True"
      ]
     },
     "execution_count": 4,
     "metadata": {},
     "output_type": "execute_result"
    }
   ],
   "source": [
    "def correct_signs(A):\n",
    "    si=0\n",
    "    ei=2\n",
    "    sign=1\n",
    "    while ei<=len(A)-1:\n",
    "        if A[sign]==\"<\":\n",
    "            if A[si]<A[ei]:\n",
    "                si=ei\n",
    "                sign=sign+2\n",
    "                ei=ei+2\n",
    "                continue\n",
    "            else:\n",
    "                return False\n",
    "        if A[sign]==\">\":\n",
    "            if A[si]>A[ei]:\n",
    "                si=ei\n",
    "                sign=sign+2\n",
    "                ei=ei+2\n",
    "                continue\n",
    "            else:\n",
    "                return False\n",
    "    return True\n",
    "correct_signs(\"1<2<6<9>3\")\n",
    "        \n",
    "        \n",
    "        "
   ]
  },
  {
   "cell_type": "code",
   "execution_count": 7,
   "id": "af589ee6",
   "metadata": {},
   "outputs": [
    {
     "data": {
      "text/plain": [
       "'th# ##rdv#rk'"
      ]
     },
     "execution_count": 7,
     "metadata": {},
     "output_type": "execute_result"
    }
   ],
   "source": [
    "def replace_vowels(A):\n",
    "    for i in [\"a\",\"e\",\"i\",\"o\",\"u\"]:\n",
    "        A=A.replace(i,\"#\")\n",
    "    return A\n",
    "replace_vowels(\"the aardvark\")"
   ]
  },
  {
   "cell_type": "code",
   "execution_count": 8,
   "id": "ea426383",
   "metadata": {},
   "outputs": [
    {
     "data": {
      "text/plain": [
       "120"
      ]
     },
     "execution_count": 8,
     "metadata": {},
     "output_type": "execute_result"
    }
   ],
   "source": [
    "def factorial(n):\n",
    "    if n==0 or n==1:\n",
    "        return 1\n",
    "    output=n*factorial(n-1)\n",
    "    return output\n",
    "factorial(5)"
   ]
  },
  {
   "cell_type": "code",
   "execution_count": 11,
   "id": "cb959723",
   "metadata": {},
   "outputs": [
    {
     "data": {
      "text/plain": [
       "0"
      ]
     },
     "execution_count": 11,
     "metadata": {},
     "output_type": "execute_result"
    }
   ],
   "source": [
    "1^1"
   ]
  },
  {
   "cell_type": "code",
   "execution_count": 17,
   "id": "da84482a",
   "metadata": {},
   "outputs": [
    {
     "data": {
      "text/plain": [
       "5"
      ]
     },
     "execution_count": 17,
     "metadata": {},
     "output_type": "execute_result"
    }
   ],
   "source": [
    "def hamming_distance(str1,str2):\n",
    "    count=0\n",
    "    for i in range(len(str1)):\n",
    "        if str1[i]!=str2[i]:\n",
    "            count+=1\n",
    "    return count\n",
    "hamming_distance(\"abcde\",\"bcdef\")"
   ]
  },
  {
   "cell_type": "code",
   "execution_count": null,
   "id": "bd8f0fe4",
   "metadata": {},
   "outputs": [],
   "source": []
  }
 ],
 "metadata": {
  "kernelspec": {
   "display_name": "Python 3",
   "language": "python",
   "name": "python3"
  },
  "language_info": {
   "codemirror_mode": {
    "name": "ipython",
    "version": 3
   },
   "file_extension": ".py",
   "mimetype": "text/x-python",
   "name": "python",
   "nbconvert_exporter": "python",
   "pygments_lexer": "ipython3",
   "version": "3.8.8"
  }
 },
 "nbformat": 4,
 "nbformat_minor": 5
}
