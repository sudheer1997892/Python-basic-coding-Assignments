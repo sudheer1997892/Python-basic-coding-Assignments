{
 "cells": [
  {
   "cell_type": "code",
   "execution_count": 36,
   "id": "697df37f",
   "metadata": {},
   "outputs": [
    {
     "name": "stdout",
     "output_type": "stream",
     "text": [
      "100,150,180\n",
      "18,22,24,"
     ]
    }
   ],
   "source": [
    "D=[int(i) for i in input().split(\",\")]\n",
    "c=50\n",
    "h=30\n",
    "\n",
    "li=[int(((2*c*i)/h)**0.5) for i in D]\n",
    "for i in li:\n",
    "    print(i,end=\",\")"
   ]
  },
  {
   "cell_type": "code",
   "execution_count": 20,
   "id": "97612af6",
   "metadata": {},
   "outputs": [
    {
     "name": "stdout",
     "output_type": "stream",
     "text": [
      "enter row size3\n",
      "enter column size5\n",
      "[[0, 0, 0, 0, 0], [0, 1, 2, 3, 4], [0, 2, 4, 6, 8]]\n"
     ]
    }
   ],
   "source": [
    "X=int(input(\"enter row size\"))\n",
    "Y=int(input(\"enter column size\"))\n",
    "array=[]\n",
    "for i in range(X):\n",
    "    array.append([])\n",
    "    for j in range(Y):\n",
    "        array[i].append(i*j)\n",
    "print(array)\n"
   ]
  },
  {
   "cell_type": "code",
   "execution_count": 22,
   "id": "b78ed972",
   "metadata": {},
   "outputs": [
    {
     "name": "stdout",
     "output_type": "stream",
     "text": [
      "enter stringwithout,hello,bag,world\n",
      "bag,hello,without,world\n"
     ]
    }
   ],
   "source": [
    "X=input(\"enter string\")\n",
    "X=X.split(\",\")\n",
    "X=sorted(X)\n",
    "X=\",\".join(X)\n",
    "print(X)"
   ]
  },
  {
   "cell_type": "code",
   "execution_count": 24,
   "id": "8d209f9f",
   "metadata": {},
   "outputs": [
    {
     "name": "stdout",
     "output_type": "stream",
     "text": [
      "enter stringhello world and practice makes perfect and hello world again\n",
      "again and hello makes perfect practice world\n"
     ]
    }
   ],
   "source": [
    "X=input(\"enter string\")\n",
    "X=X.split(\" \")\n",
    "new_x=set(X)\n",
    "new_x=sorted(new_x)\n",
    "new_x=\" \".join(new_x)\n",
    "print(new_x)"
   ]
  },
  {
   "cell_type": "code",
   "execution_count": 26,
   "id": "d92f9c4d",
   "metadata": {},
   "outputs": [
    {
     "name": "stdout",
     "output_type": "stream",
     "text": [
      "enter stringhello world! 123\n",
      "Digits: 3\n",
      "letters: 10\n"
     ]
    }
   ],
   "source": [
    "X=input(\"enter string\")\n",
    "digits=0\n",
    "letters=0\n",
    "for i in X:\n",
    "    if i in [str(i) for i in range(10)]:\n",
    "        digits+=1\n",
    "    elif ord(i)>=97 and ord(i)<122:\n",
    "        letters+=1\n",
    "    else:\n",
    "        continue\n",
    "print(\"Digits:\",digits)\n",
    "print(\"letters:\",letters)"
   ]
  },
  {
   "cell_type": "code",
   "execution_count": 35,
   "id": "6f36ac51",
   "metadata": {},
   "outputs": [
    {
     "name": "stdout",
     "output_type": "stream",
     "text": [
      "enter passwordsABd1234@1,a F1#,2w3E*,2We3345\n",
      "ABd1234@1\n"
     ]
    }
   ],
   "source": [
    "D=[i for i in input(\"enter passwords\").split(\",\")]\n",
    "lower,upper,num,special=0,0,0,0\n",
    "for i in D:\n",
    "    lower,upper,num,special=0,0,0,0\n",
    "    for j in i:\n",
    "        if ord(j)>=97 and ord(j)<=122:\n",
    "            lower+=1\n",
    "        if j in [str(i) for i in range(10)]:\n",
    "            num+=1\n",
    "        if ord(j)>=65 and ord(j)<=90:\n",
    "            upper+=1\n",
    "        if j in [\"$\",\"#\",\"@\"]:\n",
    "            special+=1\n",
    "    if lower>=1 and upper>=1 and num>=1 and special>=1 and len(i)>=6 and len(i)<=12:\n",
    "        print(i)\n",
    "    else:\n",
    "        continue"
   ]
  }
 ],
 "metadata": {
  "kernelspec": {
   "display_name": "Python 3",
   "language": "python",
   "name": "python3"
  },
  "language_info": {
   "codemirror_mode": {
    "name": "ipython",
    "version": 3
   },
   "file_extension": ".py",
   "mimetype": "text/x-python",
   "name": "python",
   "nbconvert_exporter": "python",
   "pygments_lexer": "ipython3",
   "version": "3.8.8"
  }
 },
 "nbformat": 4,
 "nbformat_minor": 5
}
