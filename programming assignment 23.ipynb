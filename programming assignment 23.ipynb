{
 "cells": [
  {
   "cell_type": "code",
   "execution_count": 11,
   "id": "284ad6b3",
   "metadata": {},
   "outputs": [],
   "source": [
    "def is_symmetrical(num):\n",
    "    li=[]\n",
    "    i=num\n",
    "    while i>0:\n",
    "        li.append(i%10)\n",
    "        i=i//10\n",
    "    reversenum=0\n",
    "    for i in li:\n",
    "        reversenum=(reversenum*10)+i\n",
    "    print(reversenum)\n",
    "    return reversenum==num"
   ]
  },
  {
   "cell_type": "code",
   "execution_count": 14,
   "id": "80c2a198",
   "metadata": {},
   "outputs": [
    {
     "name": "stdout",
     "output_type": "stream",
     "text": [
      "1112111\n"
     ]
    },
    {
     "data": {
      "text/plain": [
       "True"
      ]
     },
     "execution_count": 14,
     "metadata": {},
     "output_type": "execute_result"
    }
   ],
   "source": [
    "is_symmetrical(1112111)"
   ]
  },
  {
   "cell_type": "code",
   "execution_count": 21,
   "id": "6cbd2314",
   "metadata": {},
   "outputs": [],
   "source": [
    "def multiply_nums(string):\n",
    "    li=string.split(\",\")\n",
    "    mul=1\n",
    "    for i in li:\n",
    "        mul=mul*int(i)\n",
    "    return mul\n",
    "        "
   ]
  },
  {
   "cell_type": "code",
   "execution_count": 22,
   "id": "824ee94e",
   "metadata": {},
   "outputs": [
    {
     "data": {
      "text/plain": [
       "-20"
      ]
     },
     "execution_count": 22,
     "metadata": {},
     "output_type": "execute_result"
    }
   ],
   "source": [
    "multiply_nums(\"10, -2\")"
   ]
  },
  {
   "cell_type": "code",
   "execution_count": 48,
   "id": "cd7fc578",
   "metadata": {},
   "outputs": [],
   "source": [
    "def square_digits(num):\n",
    "    s=str(num)\n",
    "    li=[]\n",
    "    for i in s:\n",
    "        li.append(int(i))\n",
    "    li=[i**2 for i in li]\n",
    "    s=\"\"\n",
    "    for i in li:\n",
    "        s=s+str(i)\n",
    "    return int(s)"
   ]
  },
  {
   "cell_type": "code",
   "execution_count": 50,
   "id": "3ce45570",
   "metadata": {},
   "outputs": [
    {
     "data": {
      "text/plain": [
       "9414"
      ]
     },
     "execution_count": 50,
     "metadata": {},
     "output_type": "execute_result"
    }
   ],
   "source": [
    "square_digits(3212)"
   ]
  },
  {
   "cell_type": "code",
   "execution_count": 53,
   "id": "c78bdaaa",
   "metadata": {},
   "outputs": [],
   "source": [
    "def recur(li):\n",
    "    if len(li)==1:\n",
    "        return li\n",
    "    output=recur(li[1:])\n",
    "    if li[0]==output[0]:\n",
    "        return output\n",
    "    else:\n",
    "        return [li[0]]+output\n",
    "def setify(li):\n",
    "    li=sorted(li)\n",
    "    li=recur(li)\n",
    "    print(li)\n",
    "    \n",
    "        "
   ]
  },
  {
   "cell_type": "code",
   "execution_count": 55,
   "id": "5b9e15c6",
   "metadata": {},
   "outputs": [
    {
     "name": "stdout",
     "output_type": "stream",
     "text": [
      "[1, 2, 3]\n"
     ]
    }
   ],
   "source": [
    "setify([3, 3, 3, 2, 1])"
   ]
  },
  {
   "cell_type": "code",
   "execution_count": 59,
   "id": "b8151135",
   "metadata": {},
   "outputs": [],
   "source": [
    "import numpy as np\n",
    "def mean(num):\n",
    "    s=str(num)\n",
    "    li=[]\n",
    "    for i in s:\n",
    "        li.append(int(i))\n",
    "    return np.mean(li)\n",
    "        "
   ]
  },
  {
   "cell_type": "code",
   "execution_count": 60,
   "id": "260cb9ca",
   "metadata": {},
   "outputs": [
    {
     "data": {
      "text/plain": [
       "3.0"
      ]
     },
     "execution_count": 60,
     "metadata": {},
     "output_type": "execute_result"
    }
   ],
   "source": [
    "mean(12345)"
   ]
  },
  {
   "cell_type": "code",
   "execution_count": null,
   "id": "a150aa58",
   "metadata": {},
   "outputs": [],
   "source": []
  }
 ],
 "metadata": {
  "kernelspec": {
   "display_name": "Python 3",
   "language": "python",
   "name": "python3"
  },
  "language_info": {
   "codemirror_mode": {
    "name": "ipython",
    "version": 3
   },
   "file_extension": ".py",
   "mimetype": "text/x-python",
   "name": "python",
   "nbconvert_exporter": "python",
   "pygments_lexer": "ipython3",
   "version": "3.8.8"
  }
 },
 "nbformat": 4,
 "nbformat_minor": 5
}
