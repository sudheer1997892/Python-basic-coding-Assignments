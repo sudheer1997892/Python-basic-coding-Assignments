{
 "cells": [
  {
   "cell_type": "code",
   "execution_count": 58,
   "id": "4a631a6c",
   "metadata": {},
   "outputs": [
    {
     "name": "stdout",
     "output_type": "stream",
     "text": [
      "Enter elements of list:2 3 4 5 6\n",
      "Enter element to be added1\n",
      "[3, 4, 5, 6, 1]\n"
     ]
    }
   ],
   "source": [
    "def next_in_line(d,e):\n",
    "    if len(d)==0:\n",
    "        return \"No LIST has been selected\"\n",
    "    d.append(e)\n",
    "    d.pop(0)\n",
    "    return d\n",
    "li=[]\n",
    "d=[int(i) for i in input(\"Enter elements of list:\").strip().split()]\n",
    "e=int(input('Enter element to be added'))\n",
    "updated=next_in_line(d,e)\n",
    "print(updated)\n",
    "\n",
    "    "
   ]
  },
  {
   "cell_type": "code",
   "execution_count": 59,
   "id": "8c37149a",
   "metadata": {},
   "outputs": [
    {
     "name": "stdout",
     "output_type": "stream",
     "text": [
      "65700\n"
     ]
    }
   ],
   "source": [
    "def get_budgets(list):\n",
    "    sum=0\n",
    "    for i in list:\n",
    "        sum=sum+i[\"budget\"]\n",
    "    return sum\n",
    "list=[{ \"name\": \"John\", \"age\": 21, \"budget\": 23000 },\n",
    "  { \"name\": \"Steve\",  \"age\": 32, \"budget\": 40000 },\n",
    "  { \"name\": \"Martin\",  \"age\": 16, \"budget\": 2700 }]\n",
    "print(get_budgets(list))\n",
    "\n"
   ]
  },
  {
   "cell_type": "code",
   "execution_count": 60,
   "id": "5a828ca9",
   "metadata": {},
   "outputs": [
    {
     "name": "stdout",
     "output_type": "stream",
     "text": [
      "javascript\n",
      "aacijprstv\n"
     ]
    }
   ],
   "source": [
    "def alphabet_soup(str):\n",
    "    return ''.join(sorted(str))\n",
    "str =input()\n",
    "print(alphabet_soup(str))"
   ]
  },
  {
   "cell_type": "code",
   "execution_count": 62,
   "id": "c077e2b1",
   "metadata": {},
   "outputs": [
    {
     "name": "stdout",
     "output_type": "stream",
     "text": [
      "Enter principle amount100000\n",
      "enter number of years20\n",
      "Enter yearly interest rate0.15\n",
      "enter no of compounded periods per year365\n",
      "2007316.2632325366\n"
     ]
    }
   ],
   "source": [
    "def compound_interest(principle, rate, periods):\n",
    "    Amount = principle *((1 + rate)**periods)\n",
    "    return Amount \n",
    "principle=int(input(\"Enter principle amount\"))\n",
    "years=int(input(\"enter number of years\"))\n",
    "rate=float(input(\"Enter yearly interest rate\"))\n",
    "c=int(input(\"enter no of compounded periods per year\"))\n",
    "rate=(rate/c)\n",
    "periods=years*c\n",
    "print(compound_interest(principle,rate,periods))\n",
    "\n",
    "\n"
   ]
  },
  {
   "cell_type": "code",
   "execution_count": 67,
   "id": "630afc15",
   "metadata": {},
   "outputs": [
    {
     "ename": "TypeError",
     "evalue": "'list' object is not callable",
     "output_type": "error",
     "traceback": [
      "\u001b[1;31m---------------------------------------------------------------------------\u001b[0m",
      "\u001b[1;31mTypeError\u001b[0m                                 Traceback (most recent call last)",
      "\u001b[1;32m<ipython-input-67-caf53df09408>\u001b[0m in \u001b[0;36m<module>\u001b[1;34m\u001b[0m\n\u001b[0;32m      2\u001b[0m     \u001b[1;32mreturn\u001b[0m \u001b[0mtype\u001b[0m\u001b[1;33m(\u001b[0m\u001b[0mi\u001b[0m\u001b[1;33m)\u001b[0m\u001b[1;33m==\u001b[0m\u001b[0mint\u001b[0m\u001b[1;33m\u001b[0m\u001b[1;33m\u001b[0m\u001b[0m\n\u001b[0;32m      3\u001b[0m \u001b[0mli\u001b[0m\u001b[1;33m=\u001b[0m\u001b[1;33m[\u001b[0m\u001b[1;36m9\u001b[0m\u001b[1;33m,\u001b[0m \u001b[1;36m2\u001b[0m\u001b[1;33m,\u001b[0m \u001b[1;34m\"space\"\u001b[0m\u001b[1;33m,\u001b[0m \u001b[1;34m\"car\"\u001b[0m\u001b[1;33m,\u001b[0m \u001b[1;34m\"lion\"\u001b[0m\u001b[1;33m,\u001b[0m \u001b[1;36m16\u001b[0m\u001b[1;33m]\u001b[0m\u001b[1;33m\u001b[0m\u001b[1;33m\u001b[0m\u001b[0m\n\u001b[1;32m----> 4\u001b[1;33m \u001b[0mc\u001b[0m\u001b[1;33m=\u001b[0m\u001b[0mlist\u001b[0m\u001b[1;33m(\u001b[0m\u001b[0mfilter\u001b[0m\u001b[1;33m(\u001b[0m\u001b[0mreturn_only_integer\u001b[0m\u001b[1;33m,\u001b[0m\u001b[0mli\u001b[0m\u001b[1;33m)\u001b[0m\u001b[1;33m)\u001b[0m\u001b[1;33m\u001b[0m\u001b[1;33m\u001b[0m\u001b[0m\n\u001b[0m",
      "\u001b[1;31mTypeError\u001b[0m: 'list' object is not callable"
     ]
    }
   ],
   "source": [
    "def return_only_integer(i):\n",
    "    return type(i)==int\n",
    "li=[9, 2, \"space\", \"car\", \"lion\", 16]\n",
    "c=list(filter(return_only_integer,li))"
   ]
  },
  {
   "cell_type": "code",
   "execution_count": 55,
   "id": "73ad5553",
   "metadata": {},
   "outputs": [
    {
     "data": {
      "text/plain": [
       "int"
      ]
     },
     "execution_count": 55,
     "metadata": {},
     "output_type": "execute_result"
    }
   ],
   "source": []
  },
  {
   "cell_type": "code",
   "execution_count": null,
   "id": "57d5754f",
   "metadata": {},
   "outputs": [],
   "source": [
    "filter"
   ]
  }
 ],
 "metadata": {
  "kernelspec": {
   "display_name": "Python 3",
   "language": "python",
   "name": "python3"
  },
  "language_info": {
   "codemirror_mode": {
    "name": "ipython",
    "version": 3
   },
   "file_extension": ".py",
   "mimetype": "text/x-python",
   "name": "python",
   "nbconvert_exporter": "python",
   "pygments_lexer": "ipython3",
   "version": "3.8.8"
  }
 },
 "nbformat": 4,
 "nbformat_minor": 5
}
